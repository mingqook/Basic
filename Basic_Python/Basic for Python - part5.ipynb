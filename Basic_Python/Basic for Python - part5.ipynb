{
 "cells": [
  {
   "cell_type": "markdown",
   "id": "exempt-mexico",
   "metadata": {},
   "source": [
    "# Basic for Python - part5"
   ]
  },
  {
   "cell_type": "markdown",
   "id": "associate-elimination",
   "metadata": {},
   "source": [
    "##### Python의 기본 문법을 정리하였으며 점프 투 파이썬을 참고하여 작성하였습니다.\n",
    "##### 해당 자료는 python 3.6 기반으로 작성되었습니다."
   ]
  },
  {
   "cell_type": "markdown",
   "id": "composed-adobe",
   "metadata": {},
   "source": [
    "## 5. 정규표현식과 XML\n",
    "### 정규표현식은 깊게 공부하려면 많은 양을 공부해야 한다. 따라서 이 곳에서는 기초만 정리하고 추후 기회가 되면 따로 정리하겠다. \n",
    "### XML은 사용빈도가 많지 않을 것 같으므로 따로 정리하지 않겠다. 필요 시 구글링을 통해 찾아보자"
   ]
  },
  {
   "cell_type": "markdown",
   "id": "armed-playing",
   "metadata": {},
   "source": [
    "### 5.1 정규표현식\n",
    "#### - 정규표현식은 복잡한 문자열을 처리할 때 사용된다. \n",
    "#### - 정규표현식의 메타 문자로 . ^ + ? {} [] ₩ | () 등이 있다. \n",
    "#### - []는 [와 ] 사이의 문자들과 매치라는 의미를 갖는다. []안에 하이픈(-)을 사용하면 두 문자 사이의 범위를 의미한다. 문자 클래스 내에 ^ 메타 문자가 사용되면 반대(not)의 의미를 갖는다.\n",
    "#### - . 는 줄바꿈(\\n)을 제외한 모든 문자와 매치됨을 의미한다.\n",
    "#### - * 는 바로 앞에 있는 문자가 0번부터 무한대로 반복될 수 있음을 의미한다. \n",
    "#### - + 는 바로 앞에 있는 문자가 최소 1번이상 존재한다는 것을 의미한다. \n",
    "#### - {}를 이용하면 반복 횟수를 고정시킬 수 있다. {1,}은 +와 동일하고 {0,}은 *와 동일하다.\n",
    "#### - ? 는 {0,1}과 동일한 의미이다. 바로 앞의 문자가 사용되지 않거나 딱 1번 사용되었음을 의미한다. "
   ]
  },
  {
   "cell_type": "markdown",
   "id": "complex-montgomery",
   "metadata": {},
   "source": [
    "#### 5.1.1 re 모듈\n",
    "#### - re 모듈을 통해 정규표현식을 지원한다. \n",
    "#### - re.compile()을 이용하여 정규표현식을 컴파일한다. 결과로 리턴되는 객체를 이용하여 이후 작업을 수행한다. \n",
    "#### - re.match() : 문자열의 처음부터 정규식과 매치되는지 조사\n",
    "#### - re.search() : 문자열 전체를 검색하여 정규식과 매치되는지 조사\n",
    "#### - re.findall() : 정규식과 매치되는 모든 문자열을 리스트로 리턴\n",
    "#### - re.finditer() : 정규식과 매치되는 모든 문자열을 반복 가능한 객체로 리턴"
   ]
  },
  {
   "cell_type": "code",
   "execution_count": 11,
   "id": "defined-powell",
   "metadata": {},
   "outputs": [
    {
     "name": "stdout",
     "output_type": "stream",
     "text": [
      "python\n",
      "pthon\n",
      "['life', 'is', 'too', 'short']\n",
      "<_sre.SRE_Match object; span=(0, 4), match='life'>\n",
      "<_sre.SRE_Match object; span=(5, 7), match='is'>\n",
      "<_sre.SRE_Match object; span=(8, 11), match='too'>\n",
      "<_sre.SRE_Match object; span=(12, 17), match='short'>\n"
     ]
    }
   ],
   "source": [
    "import re\n",
    "p = re.compile('[a-z]+') # 소문자 알파벳이 1회이상 등장\n",
    "\n",
    "m = p.match(\"python\")\n",
    "print(m.group()) # 매치되는 값들을 출력\n",
    "\n",
    "m = p.search(\"1pthon\")\n",
    "print(m.group())\n",
    "\n",
    "result = p.findall(\"life is too short\")\n",
    "print(result)\n",
    "\n",
    "result = p.finditer(\"life is too short\")\n",
    "for r in result:\n",
    "    print(r)"
   ]
  },
  {
   "cell_type": "markdown",
   "id": "fiscal-socket",
   "metadata": {},
   "source": [
    "#### 5.1.2 match 객체의 메서드\n",
    "#### - group() : 매치된 문자열을 반환\n",
    "#### - start() : 매치된 문자열의 시작 위치를 반환\n",
    "#### - end() : 매치된 문자열의 끝 위치를 반환\n",
    "#### - span() : 매치된 문자열의 (시작, 끝)의 튜플을 반환"
   ]
  },
  {
   "cell_type": "code",
   "execution_count": 12,
   "id": "measured-partnership",
   "metadata": {},
   "outputs": [
    {
     "name": "stdout",
     "output_type": "stream",
     "text": [
      "python\n",
      "0\n",
      "6\n",
      "(0, 6)\n"
     ]
    }
   ],
   "source": [
    "import re\n",
    "p = re.compile('[a-z]+')\n",
    "m = p.match(\"python\")\n",
    "\n",
    "print(m.group())\n",
    "print(m.start())\n",
    "print(m.end())\n",
    "print(m.span())"
   ]
  },
  {
   "cell_type": "markdown",
   "id": "advanced-miracle",
   "metadata": {},
   "source": [
    "#### - 정규식 문자열 앞에 r 문자를 삽입하면 이 정규식은 raw string 규칙에 의하여 백슬래시 2개 대신 1개만 써도 2개를 쓴 것과 동일한 의미를 갖는다."
   ]
  },
  {
   "cell_type": "markdown",
   "id": "serial-suffering",
   "metadata": {},
   "source": [
    "#### - sub() 메서드를 활용하면 정규식과 매치되는 부분을 다른 문자로 바꿀 수 있다. "
   ]
  },
  {
   "cell_type": "code",
   "execution_count": 14,
   "id": "genuine-jonathan",
   "metadata": {},
   "outputs": [
    {
     "name": "stdout",
     "output_type": "stream",
     "text": [
      "colour socks and colour shoes\n"
     ]
    }
   ],
   "source": [
    "import re\n",
    "p = re.compile('(blue|white|red)')\n",
    "print(p.sub('colour', 'blue socks and red shoes'))"
   ]
  },
  {
   "cell_type": "markdown",
   "id": "serious-referral",
   "metadata": {},
   "source": [
    "### 5.2 XML"
   ]
  },
  {
   "cell_type": "markdown",
   "id": "north-jaguar",
   "metadata": {},
   "source": [
    "#### - xml 파일을 직접적으로 다룰 일이 많지는 않을 것이므로 따로 정리하지는 않겠다."
   ]
  }
 ],
 "metadata": {
  "kernelspec": {
   "display_name": "Python 3",
   "language": "python",
   "name": "python3"
  },
  "language_info": {
   "codemirror_mode": {
    "name": "ipython",
    "version": 3
   },
   "file_extension": ".py",
   "mimetype": "text/x-python",
   "name": "python",
   "nbconvert_exporter": "python",
   "pygments_lexer": "ipython3",
   "version": "3.6.8"
  }
 },
 "nbformat": 4,
 "nbformat_minor": 5
}
