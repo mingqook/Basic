{
 "cells": [
  {
   "cell_type": "markdown",
   "id": "polish-optimization",
   "metadata": {},
   "source": [
    "# Basic for Python - part2"
   ]
  },
  {
   "cell_type": "markdown",
   "id": "upset-collect",
   "metadata": {},
   "source": [
    "##### Python의 기본 문법을 정리하였으며 점프 투 파이썬을 참고하여 작성하였습니다.\n",
    "##### 해당 자료는 python 3.6 기반으로 작성되었습니다."
   ]
  },
  {
   "cell_type": "markdown",
   "id": "short-checklist",
   "metadata": {},
   "source": [
    "## 2. Python 제어문"
   ]
  },
  {
   "cell_type": "markdown",
   "id": "increasing-climb",
   "metadata": {},
   "source": [
    "### 2.1 if문"
   ]
  },
  {
   "cell_type": "markdown",
   "id": "liquid-treasury",
   "metadata": {},
   "source": [
    "#### - if문을 작성함에 있어 주의해야 할 점은 문장의 들여쓰기이다. 들여쓰기 방법은 일관성만 있다면 코드를 수행하는데 문제는 없다.\n",
    "#### - 하지만 많은 사람들이 사용하는 방법은 스페이스바 4개를 사용하는 것으로 이 방법을 권장한다."
   ]
  },
  {
   "cell_type": "code",
   "execution_count": 6,
   "id": "indoor-technique",
   "metadata": {},
   "outputs": [
    {
     "name": "stdout",
     "output_type": "stream",
     "text": [
      "x(=1)가 y(=3)보다 작다: True\n",
      "x(=3)가 y(=1)보다 크다: True\n",
      "x(=1)와 y(=1)는 같다: True\n",
      "x(=1)가 y(=3)는 같지 않다: True\n"
     ]
    }
   ],
   "source": [
    "# 비교 연산자\n",
    "print(\"x(=1)가 y(=3)보다 작다:\", 1 < 3 )\n",
    "print(\"x(=3)가 y(=1)보다 크다:\", 3 > 1 )\n",
    "print(\"x(=1)와 y(=1)는 같다:\", 1 == 1 )\n",
    "print(\"x(=1)가 y(=3)는 같지 않다:\", 1 != 3 )"
   ]
  },
  {
   "cell_type": "code",
   "execution_count": 8,
   "id": "instrumental-granny",
   "metadata": {},
   "outputs": [
    {
     "name": "stdout",
     "output_type": "stream",
     "text": [
      "돈이 3000원 이상 있거나 카드가 있다면 택시를 타고, 그렇지 않다면 걸어 가라\n",
      "돈이 2000원 있고 카드가 있다면?\n",
      "택시 타도 돼!\n"
     ]
    }
   ],
   "source": [
    "# and(&), or(|), not(!)\n",
    "print(\"돈이 3000원 이상 있거나 카드가 있다면 택시를 타고, 그렇지 않다면 걸어 가라\")\n",
    "\n",
    "money = 2000\n",
    "card = True\n",
    "print(\"돈이 2000원 있고 카드가 있다면?\")\n",
    "if money >= 2000 or card:\n",
    "    print(\"택시 타도 돼!\")\n",
    "else:\n",
    "    print(\"걸어 가!\")\n"
   ]
  },
  {
   "cell_type": "code",
   "execution_count": 9,
   "id": "honest-arthritis",
   "metadata": {},
   "outputs": [
    {
     "name": "stdout",
     "output_type": "stream",
     "text": [
      "1이 리스트 x에 포함되는가?: True\n",
      "4가 리스트 x에 포함되지 않는가?: True\n"
     ]
    }
   ],
   "source": [
    "# in, not in\n",
    "x = [1,2,3]\n",
    "\n",
    "print(\"1이 리스트 x에 포함되는가?:\", 1 in x)\n",
    "print(\"4가 리스트 x에 포함되지 않는가?:\", 4 not in x)"
   ]
  },
  {
   "cell_type": "markdown",
   "id": "rising-joyce",
   "metadata": {},
   "source": [
    "#### - if절에 pass를 사용한다면 아무런 결과값도 출력하지 않는다."
   ]
  },
  {
   "cell_type": "markdown",
   "id": "functional-stream",
   "metadata": {},
   "source": [
    "#### - elif를 활용하면 다중 조건을 판단할 수 있다. elif는 개수의 제한 없이 사용할 수 있다. "
   ]
  },
  {
   "cell_type": "code",
   "execution_count": 10,
   "id": "celtic-hayes",
   "metadata": {},
   "outputs": [
    {
     "name": "stdout",
     "output_type": "stream",
     "text": [
      "주머니에 돈이 있으면 택시를 타고, 주머니에 돈은 없지만 카드가 있으면 택시를 타고, 돈도 없고 카드도 없으면 걸어 가라\n",
      "주머니에 종이와 핸드폰만 있고 카드가 있다면?\n",
      "택시 타도 돼!\n"
     ]
    }
   ],
   "source": [
    "# elif\n",
    "print(\"주머니에 돈이 있으면 택시를 타고, 주머니에 돈은 없지만 카드가 있으면 택시를 타고, 돈도 없고 카드도 없으면 걸어 가라\")\n",
    "\n",
    "pocket = ['paper', 'cellphone']\n",
    "card = True\n",
    "print(\"주머니에 종이와 핸드폰만 있고 카드가 있다면?\")\n",
    "\n",
    "if 'money' in pocket:\n",
    "    print(\"택시 타도 돼!\")\n",
    "elif card:\n",
    "    print(\"택시 타도 돼!\")\n",
    "else:\n",
    "    print(\"걸어 가!\")"
   ]
  },
  {
   "cell_type": "markdown",
   "id": "varied-stocks",
   "metadata": {},
   "source": [
    "### 2.2 While문"
   ]
  },
  {
   "cell_type": "markdown",
   "id": "chicken-boulder",
   "metadata": {},
   "source": [
    "#### - While은 반복이 필요한 경우 사용한다. While문은 조건문이 참인 동안에는 계속하여 수행된다."
   ]
  },
  {
   "cell_type": "code",
   "execution_count": 11,
   "id": "cubic-indie",
   "metadata": {},
   "outputs": [
    {
     "name": "stdout",
     "output_type": "stream",
     "text": [
      "10번 찍어 안넘어 가는 나무 없다!\n",
      "나무를 1번 찍었습니다.\n",
      "나무를 2번 찍었습니다.\n",
      "나무를 3번 찍었습니다.\n",
      "나무를 4번 찍었습니다.\n",
      "나무를 5번 찍었습니다.\n",
      "나무를 6번 찍었습니다.\n",
      "나무를 7번 찍었습니다.\n",
      "나무를 8번 찍었습니다.\n",
      "나무를 9번 찍었습니다.\n",
      "나무를 10번 찍었습니다.\n",
      "나무가 넘어갔습니다!\n"
     ]
    }
   ],
   "source": [
    "print(\"10번 찍어 안넘어 가는 나무 없다!\")\n",
    "\n",
    "treehit = 0\n",
    "while treehit < 10:\n",
    "    treehit += 1\n",
    "    print(\"나무를 %d번 찍었습니다.\" %treehit)\n",
    "    if treehit == 10:\n",
    "        print(\"나무가 넘어갔습니다!\")"
   ]
  },
  {
   "cell_type": "markdown",
   "id": "psychological-hacker",
   "metadata": {},
   "source": [
    "#### - break를 통해서 강제로 while문을 종료시킬 수 있다. "
   ]
  },
  {
   "cell_type": "code",
   "execution_count": 13,
   "id": "imposed-gather",
   "metadata": {},
   "outputs": [
    {
     "name": "stdout",
     "output_type": "stream",
     "text": [
      "자판기의 작동 과정\n",
      "돈을 받았으니 커피를 줍니다.\n",
      "남은 커피의 양은 9개 입니다.\n",
      "돈을 받았으니 커피를 줍니다.\n",
      "남은 커피의 양은 8개 입니다.\n",
      "돈을 받았으니 커피를 줍니다.\n",
      "남은 커피의 양은 7개 입니다.\n",
      "돈을 받았으니 커피를 줍니다.\n",
      "남은 커피의 양은 6개 입니다.\n",
      "돈을 받았으니 커피를 줍니다.\n",
      "남은 커피의 양은 5개 입니다.\n",
      "돈을 받았으니 커피를 줍니다.\n",
      "남은 커피의 양은 4개 입니다.\n",
      "돈을 받았으니 커피를 줍니다.\n",
      "남은 커피의 양은 3개 입니다.\n",
      "돈을 받았으니 커피를 줍니다.\n",
      "남은 커피의 양은 2개 입니다.\n",
      "돈을 받았으니 커피를 줍니다.\n",
      "남은 커피의 양은 1개 입니다.\n",
      "돈을 받았으니 커피를 줍니다.\n",
      "남은 커피의 양은 0개 입니다.\n",
      "커피가 다 팔렸습니다.\n"
     ]
    }
   ],
   "source": [
    "print(\"자판기의 작동 과정\")\n",
    "\n",
    "coffee = 10\n",
    "money = 300\n",
    "while money:\n",
    "    print(\"돈을 받았으니 커피를 줍니다.\")\n",
    "    coffee -= 1\n",
    "    print(\"남은 커피의 양은 %d개 입니다.\" %coffee)\n",
    "    if not coffee:\n",
    "        print(\"커피가 다 팔렸습니다.\")\n",
    "        break"
   ]
  },
  {
   "cell_type": "markdown",
   "id": "curious-mitchell",
   "metadata": {},
   "source": [
    "#### - continue를 활용하면 맨 처음 조건문으로 다시 돌아갈 수 있다. "
   ]
  },
  {
   "cell_type": "code",
   "execution_count": 14,
   "id": "partial-contribution",
   "metadata": {},
   "outputs": [
    {
     "name": "stdout",
     "output_type": "stream",
     "text": [
      "1부터 10까지 중 홀수만 출력해보자!\n",
      "1\n",
      "3\n",
      "5\n",
      "7\n",
      "9\n"
     ]
    }
   ],
   "source": [
    "print(\"1부터 10까지 중 홀수만 출력해보자!\")\n",
    "a = 0\n",
    "while a < 10:\n",
    "    a += 1\n",
    "    if a %2 ==0:\n",
    "        continue\n",
    "    print(a)"
   ]
  },
  {
   "cell_type": "markdown",
   "id": "outside-yukon",
   "metadata": {},
   "source": [
    "### 2.3 for문"
   ]
  },
  {
   "cell_type": "code",
   "execution_count": 16,
   "id": "sustainable-cooper",
   "metadata": {},
   "outputs": [
    {
     "name": "stdout",
     "output_type": "stream",
     "text": [
      "학생의 번호에 매기고, 시험을 합격 여부를 알려 주자!\n",
      "0 학생은 합격입니다.\n",
      "1 학생은 불합격입니다.\n",
      "2 학생은 합격입니다.\n",
      "3 학생은 불합격입니다.\n",
      "4 학생은 합격입니다.\n"
     ]
    }
   ],
   "source": [
    "print(\"학생의 번호에 매기고, 시험을 합격 여부를 알려 주자!\")\n",
    "\n",
    "marks = [90, 25, 67, 45, 80]\n",
    "for num, mark in enumerate(marks):\n",
    "    if mark > 60:\n",
    "        print(\"{} 학생은 합격입니다.\".format(num))\n",
    "    else:\n",
    "        print(\"{} 학생은 불합격입니다.\".format(num))"
   ]
  },
  {
   "cell_type": "code",
   "execution_count": 17,
   "id": "antique-pharmacology",
   "metadata": {},
   "outputs": [
    {
     "name": "stdout",
     "output_type": "stream",
     "text": [
      "합격한 학생에게만 결과를 알려주자!\n",
      "0 학생은 합격입니다.\n",
      "2 학생은 합격입니다.\n",
      "4 학생은 합격입니다.\n"
     ]
    }
   ],
   "source": [
    "print(\"합격한 학생에게만 결과를 알려주자!\")\n",
    "\n",
    "marks = [90, 25, 67, 45, 80]\n",
    "for num, mark in enumerate(marks):\n",
    "    if mark > 60:\n",
    "        print(\"{} 학생은 합격입니다.\".format(num))\n",
    "    else:\n",
    "        pass"
   ]
  },
  {
   "cell_type": "code",
   "execution_count": 20,
   "id": "chinese-wonder",
   "metadata": {},
   "outputs": [
    {
     "name": "stdout",
     "output_type": "stream",
     "text": [
      "for문과 range를 활용하여 구구단을 만들어보자!\n",
      "2 4 6 8 10 12 14 16 18 \n",
      "3 6 9 12 15 18 21 24 27 \n",
      "4 8 12 16 20 24 28 32 36 \n",
      "5 10 15 20 25 30 35 40 45 \n",
      "6 12 18 24 30 36 42 48 54 \n",
      "7 14 21 28 35 42 49 56 63 \n",
      "8 16 24 32 40 48 56 64 72 \n",
      "9 18 27 36 45 54 63 72 81 \n"
     ]
    }
   ],
   "source": [
    "print(\"for문과 range를 활용하여 구구단을 만들어보자!\")\n",
    "\n",
    "for i in range(2,10):\n",
    "    for j in range(1,10):\n",
    "        print(i * j, end = \" \")\n",
    "    print(\"\")"
   ]
  },
  {
   "cell_type": "code",
   "execution_count": 22,
   "id": "mechanical-hostel",
   "metadata": {},
   "outputs": [
    {
     "name": "stdout",
     "output_type": "stream",
     "text": [
      "list comprehension을 활용하여 구구단을 만들어보자!\n",
      "[2, 4, 6, 8, 10, 12, 14, 16, 18, 3, 6, 9, 12, 15, 18, 21, 24, 27, 4, 8, 12, 16, 20, 24, 28, 32, 36, 5, 10, 15, 20, 25, 30, 35, 40, 45, 6, 12, 18, 24, 30, 36, 42, 48, 54, 7, 14, 21, 28, 35, 42, 49, 56, 63, 8, 16, 24, 32, 40, 48, 56, 64, 72, 9, 18, 27, 36, 45, 54, 63, 72, 81]\n"
     ]
    }
   ],
   "source": [
    "print(\"list comprehension을 활용하여 구구단을 만들어보자!\")\n",
    "\n",
    "result = [x * y for x in range(2,10) for y in range(1,10)]\n",
    "print(result)"
   ]
  }
 ],
 "metadata": {
  "kernelspec": {
   "display_name": "Python 3",
   "language": "python",
   "name": "python3"
  },
  "language_info": {
   "codemirror_mode": {
    "name": "ipython",
    "version": 3
   },
   "file_extension": ".py",
   "mimetype": "text/x-python",
   "name": "python",
   "nbconvert_exporter": "python",
   "pygments_lexer": "ipython3",
   "version": "3.6.8"
  }
 },
 "nbformat": 4,
 "nbformat_minor": 5
}
