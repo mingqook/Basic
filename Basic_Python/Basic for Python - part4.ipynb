{
 "cells": [
  {
   "cell_type": "markdown",
   "id": "relevant-helena",
   "metadata": {},
   "source": [
    "# Basic for Python - part4"
   ]
  },
  {
   "cell_type": "markdown",
   "id": "sophisticated-commitment",
   "metadata": {},
   "source": [
    "##### Python의 기본 문법을 정리하였으며 점프 투 파이썬을 참고하여 작성하였습니다.\n",
    "##### 해당 자료는 python 3.6 기반으로 작성되었습니다."
   ]
  },
  {
   "cell_type": "markdown",
   "id": "distinct-committee",
   "metadata": {},
   "source": [
    "## 4. Python 활용도 높이기"
   ]
  },
  {
   "cell_type": "markdown",
   "id": "inappropriate-practitioner",
   "metadata": {},
   "source": [
    "### 4.1 클래스"
   ]
  },
  {
   "cell_type": "markdown",
   "id": "ordinary-percentage",
   "metadata": {},
   "source": [
    "#### - 클래스는 동일한 특성을 갖는 인스턴스를 만들어주는 역할을 한다. 정의된 클래스를 통해 만들어준 각각의 인스턴스들은 모두 동일한 클래스의 특징을 지닌다.\n",
    "#### - 인스턴스라는 말은 특정 개체가 어떤 클래스의 객체인지를 관계 위주로 설명할 때 사용된다."
   ]
  },
  {
   "cell_type": "code",
   "execution_count": 2,
   "id": "systematic-facing",
   "metadata": {},
   "outputs": [
    {
     "name": "stdout",
     "output_type": "stream",
     "text": [
      "홍길동님 1 + 2 = 3 입니다.\n",
      "홍길동\n"
     ]
    }
   ],
   "source": [
    "# 간단한 클래스 예제\n",
    "\n",
    "class Service:\n",
    "    secret = \"이건 비밀이야!\"\n",
    "    def setname(self, name):\n",
    "        self.name = name\n",
    "    def add(self, a, b):\n",
    "        result =  a+b\n",
    "        print(\"%s님 %s + %s = %s 입니다.\" %(self.name, a, b, result))\n",
    "        \n",
    "pey = Service()\n",
    "pey.setname(\"홍길동\")\n",
    "pey.add(1,2)\n",
    "print(pey.name)"
   ]
  },
  {
   "cell_type": "markdown",
   "id": "indie-winning",
   "metadata": {},
   "source": [
    "#### - __init__은 인스턴스가 만들어질 때마다 항상 실행되는 부분이다."
   ]
  },
  {
   "cell_type": "code",
   "execution_count": 3,
   "id": "neural-college",
   "metadata": {},
   "outputs": [
    {
     "name": "stdout",
     "output_type": "stream",
     "text": [
      "홍길동님 1 + 2 = 3 입니다.\n",
      "홍길동\n"
     ]
    }
   ],
   "source": [
    "# 간단한 클래스 예제\n",
    "\n",
    "class Service:\n",
    "    secret = \"이건 비밀이야!\"\n",
    "    def __init__(self, name):\n",
    "        self.name = name\n",
    "    def add(self, a, b):\n",
    "        result =  a+b\n",
    "        print(\"%s님 %s + %s = %s 입니다.\" %(self.name, a, b, result))\n",
    "        \n",
    "pey = Service(\"홍길동\")\n",
    "pey.add(1,2)\n",
    "print(pey.name)"
   ]
  },
  {
   "cell_type": "code",
   "execution_count": 6,
   "id": "according-roots",
   "metadata": {},
   "outputs": [
    {
     "name": "stdout",
     "output_type": "stream",
     "text": [
      "x의 첫번째 원소: 2\n",
      "x의 두번째 원소: 3\n",
      "x의 합: 5\n",
      "x의 차: -1\n",
      "x의 곱: 6\n",
      "x의 나누기: 0.6666666666666666\n"
     ]
    }
   ],
   "source": [
    "# 사칙연산 클래스 만들기\n",
    "\n",
    "class FourCal():\n",
    "    def __init__(self, first, second):\n",
    "        self.first = first\n",
    "        self.second = second\n",
    "    def add(self):\n",
    "        return self.first + self.second\n",
    "    def sub(self):\n",
    "        return self.first - self.second\n",
    "    def multi(self):\n",
    "        return self.first * self.second\n",
    "    def div(self):\n",
    "        return self.first / self.second\n",
    "\n",
    "x = FourCal(2,3)\n",
    "print(\"x의 첫번째 원소:\", x.first)\n",
    "print(\"x의 두번째 원소:\", x.second)\n",
    "print(\"x의 합:\", x.add())\n",
    "print(\"x의 차:\", x.sub())\n",
    "print(\"x의 곱:\", x.multi())\n",
    "print(\"x의 나누기:\", x.div())"
   ]
  },
  {
   "cell_type": "markdown",
   "id": "spiritual-harbor",
   "metadata": {},
   "source": [
    "#### - __add__ = + / __sub__ = - / __mul__ = * "
   ]
  },
  {
   "cell_type": "markdown",
   "id": "american-catalyst",
   "metadata": {},
   "source": [
    "### 4.2 모듈"
   ]
  },
  {
   "cell_type": "markdown",
   "id": "collected-organization",
   "metadata": {},
   "source": [
    "#### - 모듈은 함수나 변수 또는 클래스들을 모아 놓은 파일이다. 모듈은 다른 파이썬 프로그램에서 불러와 사용할 수 있도록 만들어진 또 다른 파이썬 파일이라고 볼 수 있다. \n",
    "#### - 모듈은 import 함수를 통해서 불러와서 사용한다. \n",
    "#### - if __name__ == \"__main__\" 의 의미 : 직접 해당 파일을 실행시켰을 때만 참이되어 if문 다음 문장들이 수행된다. 반대로 대화형 인터프리터나 다른 파일에서 해당 모듈을 불러서 사용하면 거짓이 되어 if문 다음 문장들은 수행되지 않는다."
   ]
  },
  {
   "cell_type": "markdown",
   "id": "auburn-class",
   "metadata": {},
   "source": [
    "### 4.3 패키지\n",
    "#### - 패키지는 디렉터리와 모듈로 이루어진다. \n",
    "#### - 패키지는 도트(.)를 이용하여 파이썬 모듈을 계층적으로 관리할 수 있게 해준다.\n",
    "#### - import할 때 가장 마지막 항목은 반드시 모듈 또는 패키지여야 한다.\n",
    "#### - __init__.py 파일은 해당 디렉터리가 패키지의 일부임을 알려주는 역할을 한다. -> Python 3.3버전부터는 없어도 인식이 되지만 호환성과 안정성을 위해서는 추가해주는 것이 좋다. \n",
    "#### - __all__ 은 특정 대렉터리에서 *을 통해 import할 때 import할 수 있는 모듈을 알려주는 역할을 한다. "
   ]
  },
  {
   "cell_type": "markdown",
   "id": "together-taste",
   "metadata": {},
   "source": [
    "### 4.3 예외처리\n",
    "#### - 어떻게 보면 중요할 수도 있지만 오류가 발생했을 때 가장 좋은 방법은 구글링이다!"
   ]
  },
  {
   "cell_type": "markdown",
   "id": "thirty-cylinder",
   "metadata": {},
   "source": [
    "### 4.4 내장 함수"
   ]
  },
  {
   "cell_type": "code",
   "execution_count": 20,
   "id": "recent-circus",
   "metadata": {},
   "outputs": [
    {
     "name": "stdout",
     "output_type": "stream",
     "text": [
      "-2의 절대값은: 2\n",
      "False\n",
      "True\n",
      "['__add__', '__class__', '__contains__', '__delattr__', '__delitem__', '__dir__', '__doc__', '__eq__', '__format__', '__ge__', '__getattribute__', '__getitem__', '__gt__', '__hash__', '__iadd__', '__imul__', '__init__', '__init_subclass__', '__iter__', '__le__', '__len__', '__lt__', '__mul__', '__ne__', '__new__', '__reduce__', '__reduce_ex__', '__repr__', '__reversed__', '__rmul__', '__setattr__', '__setitem__', '__sizeof__', '__str__', '__subclasshook__', 'append', 'clear', 'copy', 'count', 'extend', 'index', 'insert', 'pop', 'remove', 'reverse', 'sort']\n",
      "7을 3으로 나누었을 때 몫과 나머지: (2, 1)\n",
      "0 a\n",
      "1 b\n",
      "[3, 2, 5]\n",
      "a는 Pearson의 인스턴스인가?: True\n",
      "3과 4의 합은: 7\n",
      "x의 원소의 개수는: 3\n",
      "[1,2,3,4] 각 요소를 2배하면: [2, 4, 6, 8]\n",
      "x의 최대값과 최소값 [8, 1]\n",
      "3의 4제곱은: 81\n",
      "[1, 3, 5, 7, 9]\n",
      "[1, 2, 3, 4, 5]\n",
      "[(1, 4), (2, 5), (3, 6)]\n"
     ]
    }
   ],
   "source": [
    "# abs(절대값)\n",
    "x = -2\n",
    "\n",
    "print(\"-2의 절대값은:\", abs(x))\n",
    "\n",
    "# all(모두 참이면 true, 그 외에는 false)\n",
    "x = [0,1,1]\n",
    "\n",
    "print(all(x))\n",
    "\n",
    "# any(하나라도 참이면 true, 그 외에는 false)\n",
    "x = [0,1,1]\n",
    "\n",
    "print(any(x))\n",
    "\n",
    "# dir(객체가 가지고 있는 변수나 함수를 출력)\n",
    "x = [1,2,3]\n",
    "\n",
    "print(dir(x))\n",
    "\n",
    "# divmod(나눗셈의 몫과 나머지를 튜플로 출력)\n",
    "\n",
    "print(\"7을 3으로 나누었을 때 몫과 나머지:\", divmod(7,3))\n",
    "\n",
    "# emueratge(순서형 자료에 index와 요소를 같이 출력)\n",
    "x = ['a', 'b']\n",
    "\n",
    "for i, y in enumerate(x):\n",
    "    print(i, y)\n",
    "    \n",
    "# filter(첫번쨰 인수로 함수를 받고 두번쨰 인수로 반복형 자료를 받아 반복형 자료를 함수에 넣었을 때 참인것만 출력)\n",
    "def posi(x):\n",
    "    return x >0\n",
    "\n",
    "print(list(filter(posi, [-1,3,2,-4,5])))\n",
    "\n",
    "# isinstance(첫번쨰 인수로 인스턴스, 두번째 인수로 클래스 이름을 받아 첫번째 인수가 두번째 클래스의 인스턴스인지 판단)\n",
    "class Pearson():\n",
    "    pass\n",
    "\n",
    "a = Pearson()\n",
    "print('a는 Pearson의 인스턴스인가?:', isinstance(a, Pearson))\n",
    "\n",
    "# lambda(무기명함수로 def와 같은 역할을 하며, 간단한 함수를 만들 때 사용)\n",
    "add = lambda a,b: a+b\n",
    "\n",
    "print(\"3과 4의 합은:\", add(3,4))\n",
    "\n",
    "# len(길이를 출력)\n",
    "x = [1,2,3]\n",
    "\n",
    "print(\"x의 원소의 개수는:\", len(x))\n",
    "\n",
    "# map(함수와 반복 가능한 자료형을 입력받아 입력받은 자료형의 각 요소가 함수에 의해 수행된 결과를 출력)\n",
    "def two_times(x): return x*2\n",
    "\n",
    "print(\"[1,2,3,4] 각 요소를 2배하면:\", list(map(two_times, [1,2,3,4])))\n",
    "\n",
    "# max(최대값) & min(최소값)\n",
    "x = [2,4,1,5,8,6,3]\n",
    "\n",
    "print(\"x의 최대값과 최소값\", [max(x), min(x)])\n",
    "\n",
    "# open(파일 이름과 읽기 방법을 입력받아 파일 객체를 리턴, with와 함께 쓰임)\n",
    "\n",
    "# pow(제곱)\n",
    "print(\"3의 4제곱은:\", pow(3,4))\n",
    "\n",
    "# range(시작점, 끝점, 간격)\n",
    "print(list(range(1,10,2)))\n",
    "\n",
    "# sorted(정렬 후 리스트로 반환) -> list의 sort는 리스트 객체를 정렬하지 정렬된 결과를 리턴하지는 않는다.\n",
    "x = [2,5,3,1,4]\n",
    "\n",
    "print(sorted(x))\n",
    "\n",
    "# zip(동일한 개수의 자료를 묶어주는 역할)\n",
    "x = [1,2,3]\n",
    "y = [4,5,6]\n",
    "\n",
    "print(list(zip(x,y)))"
   ]
  },
  {
   "cell_type": "markdown",
   "id": "quality-water",
   "metadata": {},
   "source": [
    "### 4.6 외장 함수\n",
    "#### - 사람마다 자주 쓰는 함수들이 다를 것이다. 해당 책에서 소개하고 있는 외장 함수 중 유용한 것들만 정리하였다."
   ]
  },
  {
   "cell_type": "markdown",
   "id": "juvenile-grenada",
   "metadata": {},
   "source": [
    "#### 4.6.1 pickle \n",
    "#### - pickle은 객체의 형태를 그대로 유지하면서 파일에 저장하고 불러올 수 있게 하는 모듈이다. \n",
    "#### - pickle.dump()를 통해서 pickle파일을 저장하고, pickle.load()를 통해서 불러온다."
   ]
  },
  {
   "cell_type": "markdown",
   "id": "straight-flashing",
   "metadata": {},
   "source": [
    "#### 4.6.2 os\n",
    "#### - 환경 변수, 디렉터리, 파일 등의 os 자원을 제어할 수 있게 해주는 모듈이다.\n",
    "#### - os.chdir() : 대렉터리 위치 변경\n",
    "#### - os.getcwed() : 현재 디렉터리 위치 \n",
    "#### - os.mkdir() : 디렉터리 생성"
   ]
  },
  {
   "cell_type": "markdown",
   "id": "simplified-milan",
   "metadata": {},
   "source": [
    "#### 4.6.3 glob\n",
    "#### - glob은 특정 디렉터리에 있는 파일 이름이나 디렉터리들의 모든 이름을 파악하기에 수월하다. \n",
    "#### - glob.glob() : 디렉터리 내부의 모든 파일을 반환"
   ]
  },
  {
   "cell_type": "markdown",
   "id": "joined-upgrade",
   "metadata": {},
   "source": [
    "#### - os와 glob은 간단히 따로 정리한 파일을 참고하자"
   ]
  },
  {
   "cell_type": "markdown",
   "id": "persistent-extra",
   "metadata": {},
   "source": [
    "#### 4.6.4 time\n",
    "#### - 시간과 관련된 모듈이다. \n",
    "#### - time.time() : 현재 시간을 실수 형태로 반환한다. \n",
    "#### - time.localtime() : time.time()에 의해 반환된 실수값을 이용하여 원하는 시간 형식으로 반환한다. \n",
    "#### - time.asctime() : time.localtime()에 의해 반환된 튜플 형태의 값을 인수로 받아 날짜와 시간을 보기 쉽게 반환한다.\n",
    "#### - time.strftime() : 시간과 관련된 것을 세밀하게 표현할 수 있는 포맷 코드를 제공한다. \n",
    "#### - time.sleep() : loop 안에서 많이 사용되며 일정한 시간 간격을 두고 loop를 실행할 수 있다. "
   ]
  },
  {
   "cell_type": "markdown",
   "id": "virgin-husband",
   "metadata": {},
   "source": [
    "#### 4.6.5 random\n",
    "#### - 난수를 발생시키는 모듈이다. \n",
    "#### - random.random() : 0과 1 사이의 실수 중 난수값을 반환\n",
    "#### - random.randint() : 입력한 구간 내에서 정수 난수값을 반환\n",
    "#### - random.shuffle() : 입력 리스트를 무작위로 섞는다"
   ]
  },
  {
   "cell_type": "code",
   "execution_count": null,
   "id": "thrown-volume",
   "metadata": {},
   "outputs": [],
   "source": []
  }
 ],
 "metadata": {
  "kernelspec": {
   "display_name": "Python 3",
   "language": "python",
   "name": "python3"
  },
  "language_info": {
   "codemirror_mode": {
    "name": "ipython",
    "version": 3
   },
   "file_extension": ".py",
   "mimetype": "text/x-python",
   "name": "python",
   "nbconvert_exporter": "python",
   "pygments_lexer": "ipython3",
   "version": "3.6.8"
  }
 },
 "nbformat": 4,
 "nbformat_minor": 5
}
