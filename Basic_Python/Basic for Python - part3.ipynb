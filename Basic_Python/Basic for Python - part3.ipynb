{
 "cells": [
  {
   "cell_type": "markdown",
   "id": "spoken-giant",
   "metadata": {},
   "source": [
    "# Basic for Python - part3"
   ]
  },
  {
   "cell_type": "markdown",
   "id": "mobile-documentation",
   "metadata": {},
   "source": [
    "##### Python의 기본 문법을 정리하였으며 점프 투 파이썬을 참고하여 작성하였습니다.\n",
    "##### 해당 자료는 python 3.6 기반으로 작성되었습니다."
   ]
  },
  {
   "cell_type": "markdown",
   "id": "informative-macro",
   "metadata": {},
   "source": [
    "## 3. 프로그램의 입력과 출력"
   ]
  },
  {
   "cell_type": "markdown",
   "id": "delayed-ribbon",
   "metadata": {},
   "source": [
    "### 3.1 함수"
   ]
  },
  {
   "cell_type": "markdown",
   "id": "corresponding-terror",
   "metadata": {},
   "source": [
    "#### - 함수를 만들어서 사용하는 이유는 간단하다. 반복적인 수행을 반복하지 않고 한 번에 수행하기 위해서이다"
   ]
  },
  {
   "cell_type": "code",
   "execution_count": 5,
   "id": "circular-perspective",
   "metadata": {},
   "outputs": [
    {
     "name": "stdout",
     "output_type": "stream",
     "text": [
      "1 + 2 =  3\n"
     ]
    }
   ],
   "source": [
    "# 직접 만드는 덧셈 함수 \n",
    "def sum(a,b):\n",
    "    return a+b\n",
    "\n",
    "print(\"1 + 2 = \",sum(1,2))"
   ]
  },
  {
   "cell_type": "markdown",
   "id": "administrative-gasoline",
   "metadata": {},
   "source": [
    "#### - 함수의 출력값은 return으로만 표현된다. 함수 내부의 print를 통해서 출력되는 것은 함수의 출력값이 아닌 print 구문을 수행한 것이다."
   ]
  },
  {
   "cell_type": "code",
   "execution_count": 7,
   "id": "analyzed-balloon",
   "metadata": {},
   "outputs": [
    {
     "name": "stdout",
     "output_type": "stream",
     "text": [
      "hi\n",
      "1와 2의 합은 3입니다.\n",
      "None\n"
     ]
    }
   ],
   "source": [
    "# 입력값이 없는 함수 \n",
    "def say():\n",
    "    return \"hi\"\n",
    "\n",
    "print(say())\n",
    "\n",
    "# 출력값이 없는 함수 \n",
    "def sum(a,b):\n",
    "    print(\"%d와 %d의 합은 %d입니다.\" %(a,b,a+b))\n",
    "    \n",
    "print(sum(1,2))"
   ]
  },
  {
   "cell_type": "markdown",
   "id": "responsible-intermediate",
   "metadata": {},
   "source": [
    "#### - 여러 개의 입력값을 받는 함수를 만들기 위해서는 입력값에 *를 붙여준다\n",
    "#### - *를 붙여준 입력변수는 입력값들을 모아서 튜플로 만들어 준다. 이 때 입력명은 임의로 정한 변수명이다."
   ]
  },
  {
   "cell_type": "code",
   "execution_count": 8,
   "id": "enhanced-columbus",
   "metadata": {},
   "outputs": [
    {
     "name": "stdout",
     "output_type": "stream",
     "text": [
      "10\n"
     ]
    }
   ],
   "source": [
    "# 입력값으로 여러 개를 받는 함수 \n",
    "def sum_many(*args):\n",
    "    result = 0\n",
    "    for i in args:\n",
    "        result += i\n",
    "    return result\n",
    "\n",
    "print(sum_many(1,2,3,4))"
   ]
  },
  {
   "cell_type": "markdown",
   "id": "american-pixel",
   "metadata": {},
   "source": [
    "#### - 함수에서 결과값은 하나만 가질 수 있다. \n",
    "#### - 하나의 return에 값을 여러개를 작성하면 튜플형태로 출력되고, 여러개의 return문을 사용하면 마지막 return만 출력된다. "
   ]
  },
  {
   "cell_type": "code",
   "execution_count": 9,
   "id": "registered-massage",
   "metadata": {},
   "outputs": [
    {
     "name": "stdout",
     "output_type": "stream",
     "text": [
      "(5, 6)\n",
      "5\n"
     ]
    }
   ],
   "source": [
    "def sum_and_mul_1(a,b):\n",
    "    return a+b, a*b\n",
    "\n",
    "print(sum_and_mul_1(2,3,))\n",
    "\n",
    "def sum_and_mul_2(a,b):\n",
    "    return a+b\n",
    "    return a*b\n",
    "\n",
    "print(sum_and_mul_2(2,3))"
   ]
  },
  {
   "cell_type": "markdown",
   "id": "smaller-entrepreneur",
   "metadata": {},
   "source": [
    "#### - global 변수를 활용하면 함수 안에서 함수 밖의 변수를 직접 사용하겠다는 뜻이다.\n",
    "#### - 가급적이면 global 함수는 사용하지 않는 것이 좋다."
   ]
  },
  {
   "cell_type": "code",
   "execution_count": 16,
   "id": "based-annotation",
   "metadata": {},
   "outputs": [
    {
     "name": "stdout",
     "output_type": "stream",
     "text": [
      "2 4\n",
      "2 3\n"
     ]
    }
   ],
   "source": [
    "# global을 쓰지 않았을 때 \n",
    "a = 2\n",
    "def var_test_1(a):\n",
    "    a = a+1\n",
    "    return a\n",
    "print(a, var_test_1(3))\n",
    "\n",
    "# global을 썼을 때 \n",
    "a = 2\n",
    "def var_test_2():\n",
    "    global a\n",
    "    a = a+1\n",
    "    return a\n",
    "\n",
    "print(a, var_test_2())"
   ]
  },
  {
   "cell_type": "markdown",
   "id": "sporting-thinking",
   "metadata": {},
   "source": [
    "### 3.2 사용자 입력과 출력\n",
    "#### - 활용도가 낮아 따로 정리하지는 않겠다."
   ]
  },
  {
   "cell_type": "markdown",
   "id": "biological-seattle",
   "metadata": {},
   "source": [
    "### 3.3 파일 읽고 쓰기\n",
    "#### - 파일 읽기의 경우 pandas를 활요하는 경우가 많고, 쓰기의 경우 with 구문을 자주 사용한다."
   ]
  },
  {
   "cell_type": "markdown",
   "id": "honest-termination",
   "metadata": {},
   "source": [
    "#### - 파일을 생성하기 위해서는 open 함수를 사용한다. open 함수는 파일 열기 모드 3가지를 포함한다.\n",
    "#### - r(읽기모드) / w(쓰기 모드) / a(추가 모드)\n",
    "#### - open 함수를 통해서 파일을 열어주었으면 반드시 close 함수로 파일을 닫아주어야 한다.\n",
    "#### - readline() -> 파일을 한 줄 씩 읽는다.\n",
    "#### - readlines() -> 파일의 모든 라인을 읽어서 각각의 줄을 요소로 갖는 리스트를 반환한다.\n",
    "#### - read() -> 파일의 내용 전체를 문자열로 반환한다."
   ]
  }
 ],
 "metadata": {
  "kernelspec": {
   "display_name": "Python 3",
   "language": "python",
   "name": "python3"
  },
  "language_info": {
   "codemirror_mode": {
    "name": "ipython",
    "version": 3
   },
   "file_extension": ".py",
   "mimetype": "text/x-python",
   "name": "python",
   "nbconvert_exporter": "python",
   "pygments_lexer": "ipython3",
   "version": "3.6.8"
  }
 },
 "nbformat": 4,
 "nbformat_minor": 5
}
