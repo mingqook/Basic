{
 "cells": [
  {
   "cell_type": "markdown",
   "id": "banner-drink",
   "metadata": {},
   "source": [
    "# Basic for Python - part1"
   ]
  },
  {
   "cell_type": "markdown",
   "id": "expanded-banking",
   "metadata": {},
   "source": [
    "##### Python의 기본 문법을 정리하였으며 점프 투 파이썬을 참고하여 작성하였습니다.\n",
    "##### 해당 자료는 python 3.6 기반으로 작성되었습니다."
   ]
  },
  {
   "cell_type": "markdown",
   "id": "geographic-attention",
   "metadata": {},
   "source": [
    "## 1. Python의 자료형"
   ]
  },
  {
   "cell_type": "markdown",
   "id": "alone-pottery",
   "metadata": {},
   "source": [
    "### 1.1 숫자형\n",
    "####  - 파이썬의 숫자형에는 정수, 실수, 복소수 등이 있다. 일반적으로 잘 알고 있는 정수형 실수형은 따로 작성하지 않았다.\n",
    "####  - 자주 접하지 않고, 사용빈도가 낮은 복소수 부분만 따로 알아보자"
   ]
  },
  {
   "cell_type": "code",
   "execution_count": 1,
   "id": "incorrect-highland",
   "metadata": {},
   "outputs": [],
   "source": [
    "# 복소수는 실수부분과 허수부분이 존재한다. 허수부분은 대소문자 구분 없이 j를 사용한다.\n",
    "a = 1+2j\n",
    "b = 1+3J"
   ]
  },
  {
   "cell_type": "code",
   "execution_count": 3,
   "id": "crucial-lemon",
   "metadata": {},
   "outputs": [
    {
     "name": "stdout",
     "output_type": "stream",
     "text": [
      "복소수의 실수 부분 출력\n",
      "a의 실수 부분: 1.0\n",
      "b의 실수 부분: 1.0\n",
      "---------------------\n",
      "복소수의 허수 부분 출력\n",
      "a의 허수 부분: 2.0\n",
      "b의 허수 부분: 3.0\n"
     ]
    }
   ],
   "source": [
    "# 복소수.real은 실수 부분을 복소수.imag는 허수 부분을 출력한다.\n",
    "print(\"복소수의 실수 부분 출력\")\n",
    "print(\"a의 실수 부분:\", a.real)\n",
    "print(\"b의 실수 부분:\", b.real)\n",
    "print(\"---------------------\")\n",
    "print(\"복소수의 허수 부분 출력\")\n",
    "print(\"a의 허수 부분:\", a.imag)\n",
    "print(\"b의 허수 부분:\", b.imag)"
   ]
  },
  {
   "cell_type": "code",
   "execution_count": 6,
   "id": "demanding-feeling",
   "metadata": {},
   "outputs": [
    {
     "name": "stdout",
     "output_type": "stream",
     "text": [
      "a의 켤레복소수: (1-2j)\n",
      "b의 켤레복소수: (1-3j)\n"
     ]
    }
   ],
   "source": [
    "# 복소수의 켤레복소수(허수 부분의 부호만 바뀐 복소수)는 복소수.conjugate()를 사용한다. \n",
    "print(\"a의 켤레복소수:\",  a.conjugate())\n",
    "print(\"b의 켤레복소수:\", b.conjugate())"
   ]
  },
  {
   "cell_type": "markdown",
   "id": "english-transition",
   "metadata": {},
   "source": [
    "#### - Python에서는 기본 사칙연산들을 쉽게 사용할 수 있다. \n",
    "#### - **(제곱), %(나머지), //(소수점 아래를 버림)"
   ]
  },
  {
   "cell_type": "code",
   "execution_count": 9,
   "id": "suited-notice",
   "metadata": {},
   "outputs": [
    {
     "name": "stdout",
     "output_type": "stream",
     "text": [
      "3의 제곱은 9\n",
      "8 나누기 3의 나머지는 2\n",
      "8 나누기 3의 몫의 정수 부분은 2\n"
     ]
    }
   ],
   "source": [
    "print(\"3의 제곱은\" , 3 ** 2)\n",
    "print(\"8 나누기 3의 나머지는\", 8%3)\n",
    "print(\"8 나누기 3의 몫의 정수 부분은\", 8//3)"
   ]
  },
  {
   "cell_type": "markdown",
   "id": "median-document",
   "metadata": {},
   "source": [
    "-----------"
   ]
  },
  {
   "cell_type": "markdown",
   "id": "final-surveillance",
   "metadata": {},
   "source": [
    "### 1.2 문자형\n",
    "#### - python에서 문자열은 큰따옴표(\"\")를 활용하여 만들어준다. 하지만 이 외에도 문자열을 만들어 주는 방법은 다양하다. "
   ]
  },
  {
   "cell_type": "code",
   "execution_count": 15,
   "id": "civilian-course",
   "metadata": {},
   "outputs": [
    {
     "name": "stdout",
     "output_type": "stream",
     "text": [
      "hello python\n"
     ]
    }
   ],
   "source": [
    "# 큰따옴표를 활용한 문자열 만들기 \n",
    "x = \"hello python\"\n",
    "\n",
    "print(x)"
   ]
  },
  {
   "cell_type": "code",
   "execution_count": 16,
   "id": "jewish-house",
   "metadata": {},
   "outputs": [
    {
     "name": "stdout",
     "output_type": "stream",
     "text": [
      "hello python\n"
     ]
    }
   ],
   "source": [
    "# 작은따옴표를 활용한 문자열 만들기 \n",
    "x = 'hello python'\n",
    "\n",
    "print(x)"
   ]
  },
  {
   "cell_type": "code",
   "execution_count": 14,
   "id": "later-private",
   "metadata": {},
   "outputs": [
    {
     "name": "stdout",
     "output_type": "stream",
     "text": [
      "\n",
      "hello python\n",
      "hello world\n",
      "\n"
     ]
    }
   ],
   "source": [
    "# 큰따옴표 3개를 연속으로 써서 문자열 만들기 - 여러 줄의 문장을 만들 때 활용\n",
    "x = \"\"\"\n",
    "hello python\n",
    "hello world\n",
    "\"\"\"\n",
    "\n",
    "print(x)"
   ]
  },
  {
   "cell_type": "code",
   "execution_count": 17,
   "id": "surgical-validation",
   "metadata": {},
   "outputs": [
    {
     "name": "stdout",
     "output_type": "stream",
     "text": [
      "\n",
      "hello python\n",
      "hello world\n",
      "\n"
     ]
    }
   ],
   "source": [
    "# 작은따옴표 3개를 연속으로 써서 문자열 만들기 - 여러 줄의 문장을 만들 때 활용\n",
    "x = '''\n",
    "hello python\n",
    "hello world\n",
    "'''\n",
    "\n",
    "print(x)"
   ]
  },
  {
   "cell_type": "markdown",
   "id": "intense-sleeve",
   "metadata": {},
   "source": [
    "#### - 문자열에 작은따옴표를 포함하고 싶으면 큰따옴표를 활용해서 문자열을 만들어준다. 만일 작은따옴표로 만들어주게 되면 문자열을 인식해야 하는 범위를 찾아내지 못한다. 반대 상황 역시 동일하다. \n",
    "#### - 백슬래쉬를 활용한다면 동일한 따옴표를 활용해서 내부에서 사용할 수 있지만 별로 좋은 방법은 아닌것 같다!"
   ]
  },
  {
   "cell_type": "code",
   "execution_count": 21,
   "id": "statewide-presence",
   "metadata": {},
   "outputs": [
    {
     "name": "stdout",
     "output_type": "stream",
     "text": [
      "python's function\n",
      "\"hello!\"\n",
      "python's function\n"
     ]
    }
   ],
   "source": [
    "x = \"python's function\"\n",
    "\n",
    "print(x)\n",
    "\n",
    "x = '\"hello!\"'\n",
    "\n",
    "print(x)\n",
    "\n",
    "x = 'python\\'s function'\n",
    "\n",
    "print(x)"
   ]
  },
  {
   "cell_type": "markdown",
   "id": "numeric-venezuela",
   "metadata": {},
   "source": [
    "#### - 자주 활용하는 이스케이프 코드 - \\n(줄바꿈) \\t(탭 간격) \\\\ (\\를 그대로 활용)"
   ]
  },
  {
   "cell_type": "markdown",
   "id": "prescription-billy",
   "metadata": {},
   "source": [
    "#### - 문자열의 사칙연산? 문자열의 더하기는 문자열을 그대로 연결해주며 곱하기는 반복을 의미한다."
   ]
  },
  {
   "cell_type": "code",
   "execution_count": 23,
   "id": "homeless-priest",
   "metadata": {},
   "outputs": [
    {
     "name": "stdout",
     "output_type": "stream",
     "text": [
      "x와 y를 더해준다? pythonworld -> 두 문자열을 이어준다\n",
      "x를 2배한다? pythonpython -> 해당 문자열을 반복한다\n"
     ]
    }
   ],
   "source": [
    "x = \"python\"\n",
    "y = \"world\"\n",
    "print(\"x와 y를 더해준다?\", x + y, \"-> 두 문자열을 이어준다\")\n",
    "print(\"x를 2배한다?\", x*2, \"-> 해당 문자열을 반복한다\")"
   ]
  },
  {
   "cell_type": "markdown",
   "id": "aware-illness",
   "metadata": {},
   "source": [
    "#### - 문자열은 list와 같이 indexing 및 slicing이 가능하며 유용하게 활용된다. - slicing에서 끝번호는 당연히 제외!"
   ]
  },
  {
   "cell_type": "code",
   "execution_count": 24,
   "id": "interior-forge",
   "metadata": {},
   "outputs": [
    {
     "name": "stdout",
     "output_type": "stream",
     "text": [
      "x의 3번째 알파벳은 t\n",
      "x의 2번째에서 4번쨰까지 알파벳은 yth\n"
     ]
    }
   ],
   "source": [
    "x = \"python\"\n",
    "print(\"x의 3번째 알파벳은\", x[2])\n",
    "print(\"x의 2번째에서 4번쨰까지 알파벳은\", x[1:4])"
   ]
  },
  {
   "cell_type": "markdown",
   "id": "ruled-hotel",
   "metadata": {},
   "source": [
    "#### - slicing을 통해 문자열의 값을 변경할 수는 없다! 문자열은 요소 값을 바꿀 수 없는 immutable한 자료형이기 때문이다!\n",
    "#### - immutable한 자료형으로는 tuple 등이 있다."
   ]
  },
  {
   "cell_type": "markdown",
   "id": "seven-canon",
   "metadata": {},
   "source": [
    "#### - 문자열 포매팅(formatting)을 활용하면 문자열 내의 특정한 값을 바꿔줄 수 있다.\n",
    "#### - %d(정수) %s(문자열) %c(문자 1개) %f(부동 소수)"
   ]
  },
  {
   "cell_type": "code",
   "execution_count": 30,
   "id": "massive-preference",
   "metadata": {},
   "outputs": [
    {
     "name": "stdout",
     "output_type": "stream",
     "text": [
      "i eat 3 apples\n",
      "i eat three apples\n",
      "i eat 3 apples\n",
      "i eat 3 apples\n"
     ]
    }
   ],
   "source": [
    "# 숫자를 바로 대입 (%d를 활용)\n",
    "print(\"i eat %d apples\" %3)\n",
    "\n",
    "# 문자열을 바로 대입 (%s 활용)\n",
    "print(\"i eat %s apples\" %'three')\n",
    "\n",
    "# 숫자값을 변수로 활용하여 대입 (%d 활용)\n",
    "number = 3\n",
    "print(\"i eat %d apples\" %number)\n",
    "\n",
    "# 2개 이상의 값을 변수로 활용하여 대입\n",
    "number = 3\n",
    "fruit = \"apples\"\n",
    "print(\"i eat %d %s\" %(number, fruit))"
   ]
  },
  {
   "cell_type": "code",
   "execution_count": 33,
   "id": "precious-sacramento",
   "metadata": {},
   "outputs": [
    {
     "name": "stdout",
     "output_type": "stream",
     "text": [
      "전체길이는 10칸이면서 소수점은 4자리만 표현\n",
      "    3.4213\n",
      "전체길이는 10칸이면서 소수점은 4자리만 표현 - 공백의 방향이 반대\n",
      "3.4213    \n"
     ]
    }
   ],
   "source": [
    "# 전체길이와 소수점을 활용하여 표현하기 \n",
    "print(\"전체길이는 10칸이면서 소수점은 4자리만 표현\")\n",
    "print(\"%10.4f\" % 3.42134234)\n",
    "print(\"전체길이는 10칸이면서 소수점은 4자리만 표현 - 공백의 방향이 반대\")\n",
    "print(\"%-10.4f\" % 3.42134234)"
   ]
  },
  {
   "cell_type": "markdown",
   "id": "consecutive-preserve",
   "metadata": {},
   "source": [
    "#### - format 함수를 활용한 포매팅 - 활용도가 더욱 높음"
   ]
  },
  {
   "cell_type": "code",
   "execution_count": 38,
   "id": "emotional-scholar",
   "metadata": {},
   "outputs": [
    {
     "name": "stdout",
     "output_type": "stream",
     "text": [
      "i ate 10 apples. so i was sick for three days\n",
      "i ate 10 apples. so i was sick for 3 days\n"
     ]
    }
   ],
   "source": [
    "number = 10\n",
    "day = \"three\"\n",
    "\n",
    "print(\"i ate {0} apples. so i was sick for {1} days\".format(number, day)) # index 활용\n",
    "\n",
    "print(\"i ate {number} apples. so i was sick for {day} days\".format(number=10, day=3)) # 직접 대입"
   ]
  },
  {
   "cell_type": "markdown",
   "id": "upset-psychiatry",
   "metadata": {},
   "source": [
    "#### - 문자열에 사용되는 함수들"
   ]
  },
  {
   "cell_type": "code",
   "execution_count": 46,
   "id": "present-territory",
   "metadata": {},
   "outputs": [
    {
     "name": "stdout",
     "output_type": "stream",
     "text": [
      "hobby에 포함된 b의 개수는: 2\n",
      "b가 처음 나온 위치는: 10\n",
      "b가 처음 나온 위치는: 10\n",
      "문자열의 각각 문자 사이에 삽입: a,b,c,d\n",
      "모두 대문자로 PYTHON\n",
      "모두 소문자로 python\n",
      "c++ is good -> c++을 python으로 변경: python is good\n",
      "['a', 'b', 'c', 'd']\n"
     ]
    }
   ],
   "source": [
    "# count(문자 개수 세기)\n",
    "a = \"hobby\"\n",
    "print(\"hobby에 포함된 b의 개수는:\", a.count('b'))\n",
    "\n",
    "# find(위치 알려주기) - 없으면 (-1) 출력\n",
    "a = \"python is best choice\"\n",
    "print(\"b가 처음 나온 위치는:\", a.find('b'))\n",
    "\n",
    "# index(위치 알려주기) - find와 달리 없는 문자에 대해서는 오류 발생\n",
    "a = \"python is best choice\"\n",
    "print(\"b가 처음 나온 위치는:\", a.index('b'))\n",
    "\n",
    "# join(문자열 삽입)\n",
    "a = \",\"\n",
    "print(\"문자열의 각각 문자 사이에 삽입:\", a.join(\"abcd\"))\n",
    "\n",
    "# upper(대문자화), lower(소문자화)\n",
    "a = \"PYthon\"\n",
    "print(\"모두 대문자로\", a.upper())\n",
    "print(\"모두 소문자로\", a.lower())\n",
    "\n",
    "# replace(문자열 바꾸기)\n",
    "a = \"c++ is good\"\n",
    "print(a, \"-> c++을 python으로 변경:\", a.replace(\"c++\", \"python\"))\n",
    "\n",
    "# split(문자열 나누기) - list로 출력, 구분기호 정해주지 않으면 공백을 기준으로 나눔\n",
    "a = \"a:b:c:d\"\n",
    "print(a.split(\":\"))"
   ]
  },
  {
   "cell_type": "markdown",
   "id": "underlying-hygiene",
   "metadata": {},
   "source": [
    "------------\n",
    "### 1.3리스트(list)\n",
    "#### - 파이썬에서 자주 사용되는 형식으로 대괄호[]를통해서 만들고 쉼표(,)로 각 요소들을 구분한다.\n",
    "#### - 문자열에서 indexing과 slicing이 사용되었는데 리스트에서도 동일하게 사용가능하다."
   ]
  },
  {
   "cell_type": "code",
   "execution_count": 47,
   "id": "narrative-darwin",
   "metadata": {},
   "outputs": [
    {
     "name": "stdout",
     "output_type": "stream",
     "text": [
      "x 리스트: [1, 3, 5, 7]\n",
      "x 리스트의 3번째 원소: 5\n",
      "x 리스트의 1~3번째 원소: [1, 3, 5]\n"
     ]
    }
   ],
   "source": [
    "# list 생성 및 indexing / slicing\n",
    "x = [1,3,5,7]\n",
    "print(\"x 리스트:\", x)\n",
    "print(\"x 리스트의 3번째 원소:\", x[2])\n",
    "print(\"x 리스트의 1~3번째 원소:\", x[0:3])"
   ]
  },
  {
   "cell_type": "markdown",
   "id": "vital-galaxy",
   "metadata": {},
   "source": [
    "#### - 리스트는 원소로 리스트를 가질 수 있다. 즉, 리스트를 중첩해서 사용할 수 있다. 중첩된 리스트는 indexing, slicing도 중첩해서 쓸 수 있다."
   ]
  },
  {
   "cell_type": "code",
   "execution_count": 50,
   "id": "several-handbook",
   "metadata": {},
   "outputs": [
    {
     "name": "stdout",
     "output_type": "stream",
     "text": [
      "x의 3번째 원소: [3, 4, [5, 6, 7]]\n",
      "x의 3번째 원소의 3번째 원소: [5, 6, 7]\n",
      "x의 3번째 원소의 3번째 원소의 2번째 원소: 6\n"
     ]
    }
   ],
   "source": [
    "# 중첩 list\n",
    "x = [1,2,[3,4,[5,6,7]]]\n",
    "print(\"x의 3번째 원소:\", x[2])\n",
    "print(\"x의 3번째 원소의 3번째 원소:\", x[2][2])\n",
    "print(\"x의 3번째 원소의 3번째 원소의 2번째 원소:\", x[2][2][1])"
   ]
  },
  {
   "cell_type": "markdown",
   "id": "fluid-injury",
   "metadata": {},
   "source": [
    "#### - 문자열과 마찬가지로 리스트의 더하기는 리스트를 이어붙여준다. \n",
    "#### - 문자열과 마찬가지로 리스트의 곱하기는 리스트를 반복해준다."
   ]
  },
  {
   "cell_type": "code",
   "execution_count": 51,
   "id": "suited-judges",
   "metadata": {},
   "outputs": [
    {
     "name": "stdout",
     "output_type": "stream",
     "text": [
      "[1, 2, 3, 2, 3, 4]\n",
      "[1, 2, 3, 1, 2, 3, 1, 2, 3]\n"
     ]
    }
   ],
   "source": [
    "# 리스트 더하기(+)\n",
    "x = [1,2,3]\n",
    "y = [2,3,4]\n",
    "print(x + y)\n",
    "\n",
    "# 리스트 곱하기(*)\n",
    "x = [1,2,3]\n",
    "print(x * 3)"
   ]
  },
  {
   "cell_type": "markdown",
   "id": "impressive-century",
   "metadata": {},
   "source": [
    "#### - 위의 결과에서 볼 수 있는 것처럼 하나의 리스트에는 동일한 원소가 존재할 수 있다. "
   ]
  },
  {
   "cell_type": "markdown",
   "id": "macro-fourth",
   "metadata": {},
   "source": [
    "#### - 문자열과 달리 리스트는 mutable 자료형이기 때문에 indexing과 slicing을 통해 원소의 변경이 가능하다. "
   ]
  },
  {
   "cell_type": "code",
   "execution_count": 59,
   "id": "fitting-capital",
   "metadata": {},
   "outputs": [
    {
     "name": "stdout",
     "output_type": "stream",
     "text": [
      "2번쨰 원소를 4로 변경 [1, 4, 3]\n",
      "1번째, 2번째 원소를 a, b로 변경 ['a', 'b', 3]\n",
      "2번째 원소를 삭제 [1, 3]\n",
      "2번째 원소를 삭제 [1, 3]\n"
     ]
    }
   ],
   "source": [
    "# indexing을 활용한 원소 변경\n",
    "a = [1,2,3]\n",
    "a[1] = 4\n",
    "print(\"2번쨰 원소를 4로 변경\", a)\n",
    "\n",
    "# slicing을 활용한 원소 변경\n",
    "a = [1,2,3]\n",
    "a[:2] = [\"a\", \"b\"]\n",
    "print(\"1번째, 2번째 원소를 a, b로 변경\", a)\n",
    "\n",
    "# 비어 있는 리스트를 활용한 원소 삭제 \n",
    "a = [1,2,3]\n",
    "a[1:2] = []\n",
    "print(\"2번째 원소를 삭제\", a)\n",
    "\n",
    "# del을 활용한 원소 삭제\n",
    "a = [1,2,3]\n",
    "del a[1]\n",
    "print(\"2번째 원소를 삭제\", a)"
   ]
  },
  {
   "cell_type": "code",
   "execution_count": 76,
   "id": "sudden-collar",
   "metadata": {},
   "outputs": [
    {
     "name": "stdout",
     "output_type": "stream",
     "text": [
      "마지막 원소로 4를 추가: [1, 2, 3, 4]\n",
      "리스트 정렬: [1, 2, 3, 4]\n",
      "리스트 뒤집기: [3, 1, 4, 2]\n",
      "a에서 1의 위치: 2\n",
      "첫번쨰 원소로 4를 추가: [4, 1, 2, 3]\n",
      "첫번쨰로 나오는 1을 삭제: [3, 1, 4, 2]\n",
      "a의 마지막원소: 4\n",
      "마지막 원소를 추출하고 삭제: [1, 2, 3]\n",
      "a에 있는 1의 개수: 2\n",
      "a에 b를 이어붙임: [1, 2, 3, 4, 5] [4, 5]\n"
     ]
    }
   ],
   "source": [
    "# append(요소 추가)\n",
    "a = [1,2,3]\n",
    "a.append(4)\n",
    "print(\"마지막 원소로 4를 추가:\", a)\n",
    "\n",
    "# sort(리스트 정렬)\n",
    "a = [2,4,1,3]\n",
    "a.sort()\n",
    "print(\"리스트 정렬:\", a)\n",
    "\n",
    "# reverse(리스트 뒤집기)\n",
    "a = [2,4,1,3]\n",
    "a.reverse()\n",
    "print(\"리스트 뒤집기:\", a)\n",
    "\n",
    "# index(위치 반환)\n",
    "a = [2,4,1,3]\n",
    "print(\"a에서 1의 위치:\", a.index(1))\n",
    "\n",
    "# insert(a,b)(a번째 위치에 b를 삽입) - append(x) = insert(-1,x)\n",
    "a = [1,2,3]\n",
    "a.insert(0,4)\n",
    "print(\"첫번쨰 원소로 4를 추가:\", a)\n",
    "\n",
    "# remove(첫번째로 나오는 x를 삭제)\n",
    "a = [1,3,1,4,2]\n",
    "a.remove(1)\n",
    "print(\"첫번쨰로 나오는 1을 삭제:\", a)\n",
    "\n",
    "# pop(리스트의 마지막 요소를 추출하고 삭제)\n",
    "a = [1,2,3,4]\n",
    "print(\"a의 마지막원소:\", a.pop())\n",
    "print(\"마지막 원소를 추출하고 삭제:\", a)\n",
    "\n",
    "# count(리스트에 포함된 요소의 개수 세기)\n",
    "a = [1,2,3,1]\n",
    "print(\"a에 있는 1의 개수:\", a.count(1))\n",
    "\n",
    "# extend(리스트 확장) - 리스트의 더하기와 동일 - extend 함수를 사용하는 리스트만 변화\n",
    "a = [1,2,3]\n",
    "b = [4,5]\n",
    "a.extend(b)\n",
    "print(\"a에 b를 이어붙임:\", a, b)"
   ]
  },
  {
   "cell_type": "markdown",
   "id": "contrary-runner",
   "metadata": {},
   "source": [
    "-------\n",
    "### 1.4 튜플(tuple)\n",
    "#### - 튜플은 리스트와 유사하지만 몇 가지 차이가 있다. 튜플은 소괄호 ()를 통해서 만들어지며 튜플은 내부 원소의 값을 변경할 수 없는 immutable 자료형이다."
   ]
  },
  {
   "cell_type": "code",
   "execution_count": 78,
   "id": "written-convention",
   "metadata": {},
   "outputs": [
    {
     "name": "stdout",
     "output_type": "stream",
     "text": [
      "a:  1 b: (1,)\n"
     ]
    }
   ],
   "source": [
    "# 튜플은 1개의 원소만을 가질 때 마지막에 쉼표를 반드시 붙여줘야 한다. \n",
    "a = (1)\n",
    "b = (1,)\n",
    "print(\"a: \", a, \"b:\", b)"
   ]
  },
  {
   "cell_type": "markdown",
   "id": "coastal-nylon",
   "metadata": {},
   "source": [
    "#### - 튜플 역시 리스트와 마찬가지로 indexing과 slicing이 가능하다. 하지만 이를 통한 원소를 변경은 불가능하다.\n",
    "#### - 튜플 역시 더하기는 튜플을 이어주는 역할을 하며 곱하기는 튜플을 반복하는 역할을 한다."
   ]
  },
  {
   "cell_type": "code",
   "execution_count": 79,
   "id": "brutal-island",
   "metadata": {},
   "outputs": [
    {
     "name": "stdout",
     "output_type": "stream",
     "text": [
      "a의 두번째 원소: 2\n",
      "a의 첫번째~두번째 원소: (1, 2)\n",
      "a의 두번 반복: (1, 2, 3, 1, 2, 3)\n"
     ]
    }
   ],
   "source": [
    "a = (1,2,3)\n",
    "print(\"a의 두번째 원소:\", a[1])\n",
    "print(\"a의 첫번째~두번째 원소:\", a[:2])\n",
    "print(\"a의 두번 반복:\", a * 2)"
   ]
  },
  {
   "cell_type": "markdown",
   "id": "prime-season",
   "metadata": {},
   "source": [
    "---------------\n",
    "### 1.5 딕셔너리(dictionary)\n",
    "#### - 대응관계를 나타내는 자료형들을 연관 배열, 해시라고 한다. python에서는 이러한 자료형을 딕셔너리를 통해 표현한다.\n",
    "#### - 딕셔너리는 중괄호 {}를 통해 만들며, key : value 가 중괄호 내에서 짝을 지어 만들어진다. key에는 변하지 않는 값을 사용하고, value에는 변할수도 변하지 않을 수도 있는 값을 사용한다.\n",
    "#### - key 값은 변하지 않는 즉, immutable하기 때문에 list 자료형은 사용할 수 없지만 tuple은 사용할 수 있다."
   ]
  },
  {
   "cell_type": "code",
   "execution_count": 85,
   "id": "quality-winner",
   "metadata": {},
   "outputs": [
    {
     "name": "stdout",
     "output_type": "stream",
     "text": [
      "a 딕셔너리에 key값은 'b'이고 해당 value는 2를 추가: {'a': 1, 'b': 2}\n",
      "a 딕셔너리에서 key값이 'a'를 제거: {'b': 2}\n",
      "'b' key에 해당하는 value: 2\n",
      "b 딕셔너리에서 key값이 'a'인 value: 2\n"
     ]
    }
   ],
   "source": [
    "# 딕셔너리에 새로운 값을 추가할 때는 key값과 value 값을 활용한다. \n",
    "a = {'a' : 1}\n",
    "a['b'] = 2\n",
    "print(\"a 딕셔너리에 key값은 'b'이고 해당 value는 2를 추가:\", a)\n",
    "\n",
    "# del을 활용하여 딕셔너리의 값을 제거한다.\n",
    "del a['a']\n",
    "print(\"a 딕셔너리에서 key값이 'a'를 제거:\", a)\n",
    "\n",
    "# 딕셔너리에서는 key 값을 통해 value 값을 얻는다. \n",
    "print(\"'b' key에 해당하는 value:\", a['b'])\n",
    "\n",
    "# 딕셔너리를 만들때는 동일한 key 값을 사용하지 않는다.\n",
    "b = {'a':1, 'a':2}\n",
    "print(\"b 딕셔너리에서 key값이 'a'인 value:\", b['a'])"
   ]
  },
  {
   "cell_type": "code",
   "execution_count": 93,
   "id": "taken-plain",
   "metadata": {},
   "outputs": [
    {
     "name": "stdout",
     "output_type": "stream",
     "text": [
      "a 딕셔너리의 key 값들로 만든 리스트: dict_keys(['a', 'b', 'c'])\n",
      "a의 0번째 key : a\n",
      "a의 1번째 key : b\n",
      "a의 2번째 key : c\n",
      "a 딕셔너리의 value 값들로 만든 리스트: dict_values([1, 2, 4])\n",
      "a 딕셔너리의 key value 쌍으로 만든 리스트: dict_items([('a', 1), ('b', 2), ('c', 4)])\n",
      "a 딕셔너리의 'a' key에 해당하는 value: 1\n",
      "존재하지 않는 key에 대해서 default 값을 줄 수 있음: 0\n",
      "a 딕셔너리의 'b' key가 존재하는가: True\n"
     ]
    }
   ],
   "source": [
    "# keys(key 값들로 리스트를 만듦) - dict_keys 객체를 사용하여 메모리 낭비를 방지 & 리스트로 변환하지 않더라도 반복성 구문들을 실행할 수 있음\n",
    "a = {'a' : 1, 'b' : 2, 'c' : 4}\n",
    "print('a 딕셔너리의 key 값들로 만든 리스트:', a.keys())\n",
    "\n",
    "for i,k in enumerate(a.keys()):\n",
    "    print(\"a의 {}번째 key : {}\".format(i, k))\n",
    "    \n",
    "# values(value 값들로 리스트를 만듦) - dict_values 객체\n",
    "print('a 딕셔너리의 value 값들로 만든 리스트:', a.values())\n",
    "\n",
    "# items(key, value 쌍으로 만든 리스트)\n",
    "print('a 딕셔너리의 key value 쌍으로 만든 리스트:', a.items())\n",
    "\n",
    "# get(key로 value 얻기) = dict[key]\n",
    "print(\"a 딕셔너리의 'a' key에 해당하는 value:\", a.get('a'))\n",
    "print('존재하지 않는 key에 대해서 default 값을 줄 수 있음:', a.get('d', 0))\n",
    "\n",
    "# in(해당 key가 딕셔너리에 포함되어 있는지 확인)\n",
    "print(\"a 딕셔너리의 'b' key가 존재하는가:\", 'b' in a) "
   ]
  },
  {
   "cell_type": "markdown",
   "id": "italian-airline",
   "metadata": {},
   "source": [
    "--------------\n",
    "### 1.6 집합(set)\n",
    "#### - 집합과 관련된 것을 처리하기 위한 자료형으로 기본 집합의 특성들을 생각하면 된다 -> 중복이 허용되지 않는다. 순서가 없다\n",
    "#### - 순서가 없기 때문에 indexing과 slicing이 불가능하다."
   ]
  },
  {
   "cell_type": "code",
   "execution_count": 95,
   "id": "presidential-hotel",
   "metadata": {},
   "outputs": [
    {
     "name": "stdout",
     "output_type": "stream",
     "text": [
      "{'l', 'o', 'e', 'h'}\n"
     ]
    }
   ],
   "source": [
    "# 중복이 없고 순서가 없다.\n",
    "s = set(\"hello\")\n",
    "print(s)"
   ]
  },
  {
   "cell_type": "code",
   "execution_count": 106,
   "id": "measured-navigator",
   "metadata": {},
   "outputs": [
    {
     "name": "stdout",
     "output_type": "stream",
     "text": [
      "s1과 s2의 교집합: {4, 5, 6}\n",
      "s1과 s2의 교집합: {4, 5, 6}\n",
      "s1과 s2의 합집합: {1, 2, 3, 4, 5, 6, 7, 8, 9}\n",
      "s1과 s2의 합집합: {1, 2, 3, 4, 5, 6, 7, 8, 9}\n",
      "s1과 s2차집합: {1, 2, 3}\n",
      "s1과 s2차집합: {1, 2, 3}\n",
      "s1에 10 추가: {1, 2, 3, 4, 5, 6, 10}\n",
      "s2에 1,3 추가: {1, 3, 4, 5, 6, 7, 8, 9}\n",
      "s2에서 5 제거: {1, 3, 4, 6, 7, 8, 9}\n"
     ]
    }
   ],
   "source": [
    "# &, interseciton(교집합)\n",
    "s1 = set([1,2,3,4,5,6])\n",
    "s2 = set([4,5,6,7,8,9])\n",
    "print(\"s1과 s2의 교집합:\", s1&s2)\n",
    "print(\"s1과 s2의 교집합:\", s1.intersection(s2))\n",
    "\n",
    "# |, union(합집합)\n",
    "print(\"s1과 s2의 합집합:\", s1|s2)\n",
    "print(\"s1과 s2의 합집합:\", s1.union(s2))\n",
    "\n",
    "# -, difference(차집합) \n",
    "print(\"s1과 s2차집합:\", s1 - s2)\n",
    "print(\"s1과 s2차집합:\", s1.difference(s2))\n",
    "\n",
    "# add(1개의 값 추가)\n",
    "s1.add(10)\n",
    "print(\"s1에 10 추가:\", s1)\n",
    "\n",
    "# update(여러개의 값 추가)\n",
    "s2.update([1,3])\n",
    "print(\"s2에 1,3 추가:\", s2)\n",
    "\n",
    "# remove(특정 값 제거)\n",
    "s2.remove(5)\n",
    "print(\"s2에서 5 제거:\", s2)"
   ]
  },
  {
   "cell_type": "markdown",
   "id": "metallic-arrival",
   "metadata": {},
   "source": [
    "--------\n",
    "### 1.7 자료형의 참과 거짓\n",
    "#### - 숫자형은 0일 때 거짓이고 그 외의 숫자일 때는 참이다. \n",
    "#### - 문자열, 리스트, 튜플, 딕셔너리 자료형은 비어있지 않을 때 참이고 비어있으면 거짓이다. "
   ]
  },
  {
   "cell_type": "code",
   "execution_count": 109,
   "id": "powerful-liverpool",
   "metadata": {},
   "outputs": [
    {
     "name": "stdout",
     "output_type": "stream",
     "text": [
      "원소가 없으면 거짓\n",
      "원소가 있으면 참\n"
     ]
    }
   ],
   "source": [
    "a = []\n",
    "\n",
    "if a:\n",
    "    print(\"원소가 없으면 참\")\n",
    "else:\n",
    "    print(\"원소가 없으면 거짓\")\n",
    "    \n",
    "b = [1,2]\n",
    "\n",
    "if b:\n",
    "    print(\"원소가 있으면 참\")\n",
    "else:\n",
    "    print(\"원소가 있으면 거짓\")"
   ]
  },
  {
   "cell_type": "markdown",
   "id": "growing-chancellor",
   "metadata": {},
   "source": [
    "---------\n",
    "### 1.8 변수\n",
    "#### - python의 모든 자료형은 객체이다. "
   ]
  }
 ],
 "metadata": {
  "kernelspec": {
   "display_name": "Python 3",
   "language": "python",
   "name": "python3"
  },
  "language_info": {
   "codemirror_mode": {
    "name": "ipython",
    "version": 3
   },
   "file_extension": ".py",
   "mimetype": "text/x-python",
   "name": "python",
   "nbconvert_exporter": "python",
   "pygments_lexer": "ipython3",
   "version": "3.6.8"
  }
 },
 "nbformat": 4,
 "nbformat_minor": 5
}
