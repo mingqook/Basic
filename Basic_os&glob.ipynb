{
 "cells": [
  {
   "cell_type": "markdown",
   "id": "behind-scanning",
   "metadata": {},
   "source": [
    "# os / glob 사용방법"
   ]
  },
  {
   "cell_type": "code",
   "execution_count": 1,
   "id": "unsigned-spoke",
   "metadata": {},
   "outputs": [],
   "source": [
    "import os\n",
    "import glob"
   ]
  },
  {
   "cell_type": "code",
   "execution_count": 2,
   "id": "comprehensive-settle",
   "metadata": {},
   "outputs": [
    {
     "data": {
      "text/plain": [
       "'/Users/qook/Python/3.6'"
      ]
     },
     "execution_count": 2,
     "metadata": {},
     "output_type": "execute_result"
    }
   ],
   "source": [
    "# 현재 working directory 출력\n",
    "os.getcwd()"
   ]
  },
  {
   "cell_type": "code",
   "execution_count": 4,
   "id": "corrected-female",
   "metadata": {},
   "outputs": [
    {
     "data": {
      "text/plain": [
       "'/Users/qook/Python'"
      ]
     },
     "execution_count": 4,
     "metadata": {},
     "output_type": "execute_result"
    }
   ],
   "source": [
    "# working directory 이동\n",
    "os.chdir(\"/Users/qook/Python\")\n",
    "os.getcwd()"
   ]
  },
  {
   "cell_type": "code",
   "execution_count": 10,
   "id": "removable-serve",
   "metadata": {},
   "outputs": [
    {
     "data": {
      "text/plain": [
       "['os&glob.ipynb', '.DS_Store', '.ipynb_checkpoints', 'venv', 'data']"
      ]
     },
     "execution_count": 10,
     "metadata": {},
     "output_type": "execute_result"
    }
   ],
   "source": [
    "# 입력경로의 모든 파일, 폴더명 리스트 반환\n",
    "os.listdir(\"/Users/qook/python/3.6\")"
   ]
  },
  {
   "cell_type": "code",
   "execution_count": 11,
   "id": "infinite-tribune",
   "metadata": {},
   "outputs": [],
   "source": [
    "# 폴더 생성(입력해준 하나의 폴더)\n",
    "os.mkdir(\"test\")"
   ]
  },
  {
   "cell_type": "code",
   "execution_count": 15,
   "id": "forward-remains",
   "metadata": {},
   "outputs": [],
   "source": [
    "# 폴더 생성(입력한 하위 항목을 포함하는 모든 폴더)\n",
    "os.makedirs(\"test1/test2\")"
   ]
  },
  {
   "cell_type": "code",
   "execution_count": 19,
   "id": "furnished-shoulder",
   "metadata": {},
   "outputs": [
    {
     "data": {
      "text/plain": [
       "<generator object walk at 0x7ffa9a709360>"
      ]
     },
     "execution_count": 19,
     "metadata": {},
     "output_type": "execute_result"
    }
   ],
   "source": [
    "# 경로, 폴더명, 파일명 모두 반환\n",
    "# os.walk()"
   ]
  },
  {
   "cell_type": "code",
   "execution_count": 24,
   "id": "placed-islam",
   "metadata": {},
   "outputs": [
    {
     "data": {
      "text/plain": [
       "True"
      ]
     },
     "execution_count": 24,
     "metadata": {},
     "output_type": "execute_result"
    }
   ],
   "source": [
    "# 폴더(파일) 유무 판단 - 입력한 경로가 폴더(파일)가 아니거나 폴더(파일)가 없으면 false 출력\n",
    "os.path.isdir(\"/Users/qook/python/3.6/test\") #폴더\n",
    "os.path.isfile(\"/Users/qook/python/3.6/os&glob.ipynb\") #파일"
   ]
  },
  {
   "cell_type": "code",
   "execution_count": 25,
   "id": "challenging-trinity",
   "metadata": {},
   "outputs": [
    {
     "data": {
      "text/plain": [
       "True"
      ]
     },
     "execution_count": 25,
     "metadata": {},
     "output_type": "execute_result"
    }
   ],
   "source": [
    "# 파일, 폴더의 존재여부 판단 - 위에가 파일(폴더) 여부인지를 출력한다면 이번에는 존재여부\n",
    "os.path.exists(\"/Users/qook/python/3.6\")"
   ]
  },
  {
   "cell_type": "code",
   "execution_count": 26,
   "id": "romantic-venezuela",
   "metadata": {},
   "outputs": [
    {
     "data": {
      "text/plain": [
       "('/Users/qook/python/3.6', 'test')"
      ]
     },
     "execution_count": 26,
     "metadata": {},
     "output_type": "execute_result"
    }
   ],
   "source": [
    "# 가장 하위에 위치한 파일(폴더) 분리 - tuple\n",
    "os.path.split(\"/Users/qook/python/3.6/test\")"
   ]
  },
  {
   "cell_type": "code",
   "execution_count": 28,
   "id": "registered-measurement",
   "metadata": {},
   "outputs": [
    {
     "data": {
      "text/plain": [
       "tuple"
      ]
     },
     "execution_count": 28,
     "metadata": {},
     "output_type": "execute_result"
    }
   ],
   "source": [
    "# 확장자 분리 - tuple\n",
    "os.path.splitext(\"/Users/qook/python/3.6/os&glob.ipynb\")"
   ]
  },
  {
   "cell_type": "code",
   "execution_count": 30,
   "id": "appreciated-conference",
   "metadata": {},
   "outputs": [
    {
     "data": {
      "text/plain": [
       "'/Users/qook/Python/3.6/test.txt'"
      ]
     },
     "execution_count": 30,
     "metadata": {},
     "output_type": "execute_result"
    }
   ],
   "source": [
    "# 파일명과 경로 합치기\n",
    "os.path.join(os.getcwd(), \"test.txt\")"
   ]
  },
  {
   "cell_type": "markdown",
   "id": "limiting-ireland",
   "metadata": {},
   "source": [
    "------\n",
    "# 사용한다면\n",
    "* 폴더(파일)의 존재여부 확인\n",
    "* 존재하지 않을 시 폴더 생성\n",
    "------"
   ]
  },
  {
   "cell_type": "code",
   "execution_count": 31,
   "id": "comparative-action",
   "metadata": {},
   "outputs": [
    {
     "data": {
      "text/plain": [
       "['os&glob.ipynb', 'test', 'test1', 'venv', 'data']"
      ]
     },
     "execution_count": 31,
     "metadata": {},
     "output_type": "execute_result"
    }
   ],
   "source": [
    "# 현재 working directory 모든 파일, 폴더 출력 - list\n",
    "glob.glob('*')"
   ]
  },
  {
   "cell_type": "markdown",
   "id": "stock-badge",
   "metadata": {},
   "source": [
    "# glob은 특정 조건에 맞는 파일/폴더 출력이 편함"
   ]
  },
  {
   "cell_type": "code",
   "execution_count": 35,
   "id": "hollow-concentrate",
   "metadata": {},
   "outputs": [
    {
     "data": {
      "text/plain": [
       "['os&glob.ipynb']"
      ]
     },
     "execution_count": 35,
     "metadata": {},
     "output_type": "execute_result"
    }
   ],
   "source": [
    "# 특정 확장자를 갖는 모든 파일 출력\n",
    "glob.glob('*.ipynb')"
   ]
  },
  {
   "cell_type": "code",
   "execution_count": 36,
   "id": "smoking-niger",
   "metadata": {},
   "outputs": [
    {
     "data": {
      "text/plain": [
       "['test', 'venv', 'data']"
      ]
     },
     "execution_count": 36,
     "metadata": {},
     "output_type": "execute_result"
    }
   ],
   "source": [
    "# 특정 글자수를 갖는 파일/폴더 출력(? = 1글자)\n",
    "glob.glob('????')"
   ]
  },
  {
   "cell_type": "code",
   "execution_count": 40,
   "id": "absent-weapon",
   "metadata": {},
   "outputs": [
    {
     "name": "stdout",
     "output_type": "stream",
     "text": [
      "os&glob.ipynb\n",
      "test\n",
      "test1\n",
      "venv\n",
      "data\n"
     ]
    }
   ],
   "source": [
    "# 리스트가 아닌 이터레이터를 반환\n",
    "for i in glob.iglob('*'):\n",
    "    print(i)"
   ]
  },
  {
   "cell_type": "code",
   "execution_count": null,
   "id": "informal-harmony",
   "metadata": {},
   "outputs": [],
   "source": []
  }
 ],
 "metadata": {
  "kernelspec": {
   "display_name": "Python 3",
   "language": "python",
   "name": "python3"
  },
  "language_info": {
   "codemirror_mode": {
    "name": "ipython",
    "version": 3
   },
   "file_extension": ".py",
   "mimetype": "text/x-python",
   "name": "python",
   "nbconvert_exporter": "python",
   "pygments_lexer": "ipython3",
   "version": "3.6.8"
  }
 },
 "nbformat": 4,
 "nbformat_minor": 5
}
